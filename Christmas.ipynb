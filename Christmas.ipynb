{
 "cells": [
  {
   "cell_type": "code",
   "execution_count": 16,
   "metadata": {},
   "outputs": [
    {
     "name": "stdout",
     "output_type": "stream",
     "text": [
      "找到匹配的行:\n",
      "E94124094\t周士勛\t1\t1\tNone\tNone\tNone\tNone\tNone\t\n",
      "\n"
     ]
    }
   ],
   "source": [
    "import openpyxl\n",
    "from openpyxl import load_workbook\n",
    "import glob\n",
    "\n",
    "#---------建立新工作簿---------\n",
    "workbook = openpyxl.Workbook()\n",
    "wb = load_workbook(\"2023聖誕抽獎資格.xlsx\")\n",
    "\n",
    "# 获取不同的工作表\n",
    "# 获取工作表\n",
    "sheet1 = wb[\"大一\"]\n",
    "sheet2 = wb[\"大二\"]\n",
    "sheet3 = wb[\"大三\"]\n",
    "sheet4 = wb[\"大四\"]\n",
    "\n",
    "# 遍历工作表的行\n",
    "def print_sheet(sheet):\n",
    "    for row in sheet.iter_rows(min_row=1, max_row=sheet.max_row, values_only=True):\n",
    "        # 遍历行中的列\n",
    "        for value in row:\n",
    "            print(value, end='\\t')  # 打印每个单元格的值，用制表符分隔\n",
    "        print()  # 换行表示新的一行\n",
    "\n",
    "# print_sheet(sheet1)  \n",
    "\n",
    "# 用名字尋找\n",
    "def find_by_name(sheet, name):\n",
    "    # 保存匹配的行\n",
    "    matching_row = None\n",
    "\n",
    "    for row in sheet.iter_rows(min_row=1, max_row=sheet.max_row, values_only=True):\n",
    "        # 遍历行中的列\n",
    "        for value in row:\n",
    "            if value == name:\n",
    "                # 保存匹配的整行\n",
    "                matching_row = row\n",
    "                break\n",
    "\n",
    "    # 将要打印的内容整理成一个变量\n",
    "    msg = \"\"\n",
    "\n",
    "    # 检查是否找到匹配的行\n",
    "    if matching_row is not None:\n",
    "        msg += \"找到匹配的行:\\n\"\n",
    "        for value in matching_row:\n",
    "            msg += f\"{value}\\t\"  # 将每个单元格的值添加到 msg 变量中，用制表符分隔\n",
    "        msg += \"\\n\"  # 表示新的一行\n",
    "    else:\n",
    "        msg += \"未找到匹配的行\\n\"\n",
    "\n",
    "    # 打印 msg 变量的内容\n",
    "    print(msg)\n",
    "            \n",
    "# 使用示例\n",
    "find_by_name(sheet1, \"周士勛\")\n",
    "  \n",
    "# 现在你可以使用这些工作表进行操作，例如：\n",
    "# sheet1['A1'] = \"Hello, 大一!\"\n",
    "\n",
    "# 最后保存你的工作簿\n",
    "#wb.save(\"2023聖誕抽獎資格_updated.xlsx\")\n"
   ]
  },
  {
   "cell_type": "code",
   "execution_count": 35,
   "metadata": {},
   "outputs": [
    {
     "name": "stdout",
     "output_type": "stream",
     "text": [
      " * Serving Flask app '__main__'\n",
      " * Debug mode: off\n"
     ]
    },
    {
     "name": "stderr",
     "output_type": "stream",
     "text": [
      "WARNING: This is a development server. Do not use it in a production deployment. Use a production WSGI server instead.\n",
      " * Running on http://127.0.0.1:5000\n",
      "Press CTRL+C to quit\n"
     ]
    }
   ],
   "source": [
    "from flask import Flask, request\n",
    "\n",
    "# 載入 json 標準函式庫，處理回傳的資料格式\n",
    "import json\n",
    "\n",
    "# 載入 LINE Message API 相關函式庫\n",
    "from linebot import LineBotApi, WebhookHandler\n",
    "from linebot.exceptions import InvalidSignatureError\n",
    "from linebot.models import MessageEvent, TextMessage, TextSendMessage\n",
    "\n",
    "app = Flask(__name__)\n",
    "\n",
    "@app.route(\"/\", methods=['POST'])\n",
    "def linebot():\n",
    "    body = request.get_data(as_text=True)                    # 取得收到的訊息內容\n",
    "    try:\n",
    "        json_data = json.loads(body)                         # json 格式化訊息內容\n",
    "        access_token = '你的 LINE Channel access token'\n",
    "        secret = '你的 LINE Channel secret'\n",
    "        line_bot_api = LineBotApi(access_token)              # 確認 token 是否正確\n",
    "        handler = WebhookHandler(secret)                     # 確認 secret 是否正確\n",
    "        signature = request.headers['X-Line-Signature']      # 加入回傳的 headers\n",
    "        handler.handle(body, signature)                      # 綁定訊息回傳的相關資訊\n",
    "        tk = json_data['events'][0]['replyToken']            # 取得回傳訊息的 Token\n",
    "        type = json_data['events'][0]['message']['type']     # 取得 LINe 收到的訊息類型\n",
    "        if type=='text':\n",
    "            msg = json_data['events'][0]['message']['text']  # 取得 LINE 收到的文字訊息\n",
    "            print(msg)                                       # 印出內容\n",
    "            reply = msg\n",
    "        else:\n",
    "            reply = '你傳的不是文字呦～'\n",
    "        print(reply)\n",
    "        line_bot_api.reply_message(tk,TextSendMessage(reply))# 回傳訊息\n",
    "    except:\n",
    "        print(body)                                          # 如果發生錯誤，印出收到的內容\n",
    "    return 'OK'                                              # 驗證 Webhook 使用，不能省略\n",
    "\n",
    "if __name__ == \"__main__\":\n",
    "    app.run()"
   ]
  },
  {
   "cell_type": "markdown",
   "metadata": {},
   "source": [
    "# ngrok"
   ]
  },
  {
   "cell_type": "markdown",
   "metadata": {},
   "source": [
    "ngrok config add-authtoken 2ZEHPmmBXroEtG2xlngoKACK8nF_7hdYjSJvFfNTns23KCjB1\n",
    "ngrok http 5000\n"
   ]
  },
  {
   "cell_type": "markdown",
   "metadata": {},
   "source": [
    "ngrok http 5000"
   ]
  },
  {
   "cell_type": "code",
   "execution_count": null,
   "metadata": {},
   "outputs": [],
   "source": [
    " #! 然後要把 Forwarding 的網址複製放到 Line Developer 網頁裡面的 Webhook URL 的地方\n",
    "#? https://developers.line.biz/console/channel/2002087566/messaging-api?status=success"
   ]
  },
  {
   "cell_type": "markdown",
   "metadata": {},
   "source": [
    "# 第一版 "
   ]
  },
  {
   "cell_type": "code",
   "execution_count": 1,
   "metadata": {},
   "outputs": [
    {
     "name": "stdout",
     "output_type": "stream",
     "text": [
      " * Serving Flask app '__main__'\n",
      " * Debug mode: off\n"
     ]
    },
    {
     "name": "stderr",
     "output_type": "stream",
     "text": [
      "WARNING: This is a development server. Do not use it in a production deployment. Use a production WSGI server instead.\n",
      " * Running on http://127.0.0.1:5000\n",
      "Press CTRL+C to quit\n",
      "C:\\Users\\USER\\AppData\\Local\\Temp\\ipykernel_28840\\769156254.py:35: LineBotSdkDeprecatedIn30: Call to deprecated class LineBotApi. (Use v3 class; linebot.v3.<feature>. See https://github.com/line/line-bot-sdk-python/blob/master/README.rst for more details.) -- Deprecated since version 3.0.0.\n",
      "  line_bot_api = LineBotApi('AcmKERLAzUdVKoRjNqyX1iSH3UvKQXdtrg1LoS0uRub4uevvPtlAiiXsQJPWByByATZ/+qDduK5EDDn2+aNRIXDLLdM7wczi4a+P6EDhOOZp015vzydjf4X5duWPG4iN09UIxarC76zXXbo4bXQMWQdB04t89/1O/w1cDnyilFU=')  # 輸入 你的 Channel access token\n",
      "C:\\Users\\USER\\AppData\\Local\\Temp\\ipykernel_28840\\769156254.py:36: LineBotSdkDeprecatedIn30: Call to deprecated class WebhookHandler. (Use 'from linebot.v3.webhook import WebhookHandler' instead. See https://github.com/line/line-bot-sdk-python/blob/master/README.rst for more details.) -- Deprecated since version 3.0.0.\n",
      "  handler = WebhookHandler('7a120ef7c50e3792c19f28dff47c0df4')         # 輸入 你的 Channel secret\n",
      "127.0.0.1 - - [21/Dec/2023 18:18:20] \"POST / HTTP/1.1\" 200 -\n"
     ]
    },
    {
     "name": "stdout",
     "output_type": "stream",
     "text": [
      "{'destination': 'U9d6decffc40617a061de90e9592a5a63', 'events': []}\n",
      "error\n",
      "{'destination': 'U9d6decffc40617a061de90e9592a5a63', 'events': [{'type': 'message', 'message': {'type': 'text', 'id': '487081170945704022', 'quoteToken': 'fEeTjE9aLDVPOhEwjbi2-Uak1c4uCbOTuWnBREKSAm0WwUUo7TaF2Lq_df9hGOtklfi_uRSpmTFJR4j08tJIDkN7qigKdkvH6vbfkOiaJWJk0vrhlwXWbvb-_PGZgsETvleXdhV0hoj6K0ITtxXlgQ', 'text': '湯圓 張晏禎'}, 'webhookEventId': '01HJ5YGK4J8KRX9XAJ2QRZZA9M', 'deliveryContext': {'isRedelivery': False}, 'timestamp': 1703154305816, 'source': {'type': 'user', 'userId': 'U064e523599867a6a842a0ee67c16d107'}, 'replyToken': '06731667fc5c4316959463320d97ca5f', 'mode': 'active'}]}\n",
      "湯圓 張晏禎\n",
      "湯圓\n",
      "張晏禎\n",
      "錯誤：name 'wb' is not defined\n"
     ]
    },
    {
     "name": "stderr",
     "output_type": "stream",
     "text": [
      "C:\\Users\\USER\\AppData\\Local\\Temp\\ipykernel_28840\\769156254.py:63: LineBotSdkDeprecatedIn30: Call to deprecated method reply_message. (Use 'from linebot.v3.messaging import MessagingApi' and 'MessagingApi(...).reply_message(...)' instead. See https://github.com/line/line-bot-sdk-python/blob/master/README.rst for more details.) -- Deprecated since version 3.0.0.\n",
      "  line_bot_api.reply_message(tk,TextSendMessage(text=dumpling_status_by_name(sheet0, name)))\n",
      "127.0.0.1 - - [21/Dec/2023 18:25:06] \"POST / HTTP/1.1\" 200 -\n"
     ]
    },
    {
     "name": "stdout",
     "output_type": "stream",
     "text": [
      "{'destination': 'U9d6decffc40617a061de90e9592a5a63', 'events': [{'type': 'message', 'message': {'type': 'text', 'id': '487081188730339762', 'quoteToken': 'L1aZWzzGYUP56qFT-dc4BXQrt38PG4o2W3uj5TDmwjZTdt12jdvhjUkdk9Lkg4Oez_9ncNR-VDcCxXHDcj0Xy3F8fuWKw6K3rXWmdSgr0uZ-pBphcRnBeOopNMZ0BnDoD5DJswA1xo3uCBsJSoFClw', 'text': '湯圓 卓珈竹'}, 'webhookEventId': '01HJ5YGX9DKBR7MCZMRWHH94BR', 'deliveryContext': {'isRedelivery': False}, 'timestamp': 1703154316328, 'source': {'type': 'user', 'userId': 'U064e523599867a6a842a0ee67c16d107'}, 'replyToken': 'a4d265fde1314cbf974506586bab1b2e', 'mode': 'active'}]}\n",
      "湯圓 卓珈竹\n",
      "湯圓\n",
      "卓珈竹\n",
      "錯誤：name 'wb' is not defined\n"
     ]
    },
    {
     "name": "stderr",
     "output_type": "stream",
     "text": [
      "127.0.0.1 - - [21/Dec/2023 18:25:16] \"POST / HTTP/1.1\" 200 -\n"
     ]
    },
    {
     "name": "stdout",
     "output_type": "stream",
     "text": [
      "{'destination': 'U9d6decffc40617a061de90e9592a5a63', 'events': [{'type': 'message', 'message': {'type': 'text', 'id': '487081212805120376', 'quoteToken': 'oh3dN6x1vey7kVLqAQsZfXQ_1jciCEM1hOFgsFEONwG5xVdywSgN5ut0rzNpgTcYq9AaLV0gIL_XDMGzzk4IOtm8T-9sNyGuCvfmYxqWYl99xOaGTjtGSerkP3En9gF5s272VEnmOtdqDkqOFi-kRA', 'text': '湯圓 趙芯苡'}, 'webhookEventId': '01HJ5YHBHEVHET41AGDTDG1YQS', 'deliveryContext': {'isRedelivery': False}, 'timestamp': 1703154330775, 'source': {'type': 'user', 'userId': 'U064e523599867a6a842a0ee67c16d107'}, 'replyToken': '3e822e1a81e643d0a71a40529f067bc1', 'mode': 'active'}]}\n",
      "湯圓 趙芯苡\n",
      "湯圓\n",
      "趙芯苡\n",
      "錯誤：name 'wb' is not defined\n"
     ]
    },
    {
     "name": "stderr",
     "output_type": "stream",
     "text": [
      "127.0.0.1 - - [21/Dec/2023 18:25:31] \"POST / HTTP/1.1\" 200 -\n"
     ]
    },
    {
     "name": "stdout",
     "output_type": "stream",
     "text": [
      "{'destination': 'U9d6decffc40617a061de90e9592a5a63', 'events': [{'type': 'message', 'message': {'type': 'text', 'id': '487081233693278497', 'quoteToken': 'dgaNiAzHIYukxMwsb-OspSOKzoVW2LwN6GVBMaavmM7tYmgDVWnvwSjXamxTD0LH4ogpIuNPwvD8Hr2wsj7MS6JgHMG3VsVBiRhpqTqVu-P8vRu49jZsMWn8K1sP9BvOiuAyV39sneaZWDojl4oLtw', 'text': '湯圓 許評詔'}, 'webhookEventId': '01HJ5YHQ9WJ934NJT7TV4PQ4T2', 'deliveryContext': {'isRedelivery': False}, 'timestamp': 1703154343122, 'source': {'type': 'user', 'userId': 'U064e523599867a6a842a0ee67c16d107'}, 'replyToken': '6d86b8b794754896aa960dc42c48f7ea', 'mode': 'active'}]}\n",
      "湯圓 許評詔\n",
      "湯圓\n",
      "許評詔\n",
      "錯誤：name 'wb' is not defined\n"
     ]
    },
    {
     "name": "stderr",
     "output_type": "stream",
     "text": [
      "127.0.0.1 - - [21/Dec/2023 18:25:43] \"POST / HTTP/1.1\" 200 -\n"
     ]
    },
    {
     "name": "stdout",
     "output_type": "stream",
     "text": [
      "{'destination': 'U9d6decffc40617a061de90e9592a5a63', 'events': [{'type': 'message', 'message': {'type': 'text', 'id': '487081247382700257', 'quoteToken': 'Glf6EXAjSMlgjlWW3ziwmM8t0vfUaDil7_ACnw8W80GzUNl8NhwJvehM2nKutrR-PcoEHOL8dB2oOhpb3nx8fUZwmHU-fsIwyuWU-mlWqb0D-O9TkaXwnrmdlMtM0OX2jYt_FWS4l31MLUwIFS35hw', 'text': '湯圓 余欣芸'}, 'webhookEventId': '01HJ5YHZPEAWXM7B01SH6Q2N2W', 'deliveryContext': {'isRedelivery': False}, 'timestamp': 1703154351470, 'source': {'type': 'user', 'userId': 'U064e523599867a6a842a0ee67c16d107'}, 'replyToken': 'e6002b4ca8da43f6b0e26722a718fe7c', 'mode': 'active'}]}\n",
      "湯圓 余欣芸\n",
      "湯圓\n",
      "余欣芸\n",
      "錯誤：name 'wb' is not defined\n"
     ]
    },
    {
     "name": "stderr",
     "output_type": "stream",
     "text": [
      "127.0.0.1 - - [21/Dec/2023 18:25:51] \"POST / HTTP/1.1\" 200 -\n"
     ]
    },
    {
     "name": "stdout",
     "output_type": "stream",
     "text": [
      "{'destination': 'U9d6decffc40617a061de90e9592a5a63', 'events': [{'type': 'message', 'message': {'type': 'text', 'id': '487081293923221906', 'quoteToken': 'WKHelTNqI88-2T107RLixFWnoNbKfESm3yM3XNTcgsSOy5WmaX_nX-B5fPUrJvD3_RtF9JBGNawRcXje2ufKy3l0dbdbgkCkejPuXzZY0voK9ZIVV4W56LOxw8XWUVZ7dHqOPxRGdv5eP2w0ikyFUA', 'text': '湯圓 洪振崴'}, 'webhookEventId': '01HJ5YJTECJ79T5HG7WMZTS3GV', 'deliveryContext': {'isRedelivery': False}, 'timestamp': 1703154379054, 'source': {'type': 'user', 'userId': 'U064e523599867a6a842a0ee67c16d107'}, 'replyToken': 'f0d3571d49d14c0db054a2d305e4c9e5', 'mode': 'active'}]}\n",
      "湯圓 洪振崴\n",
      "湯圓\n",
      "洪振崴\n",
      "錯誤：name 'wb' is not defined\n"
     ]
    },
    {
     "name": "stderr",
     "output_type": "stream",
     "text": [
      "127.0.0.1 - - [21/Dec/2023 18:26:19] \"POST / HTTP/1.1\" 200 -\n"
     ]
    },
    {
     "name": "stdout",
     "output_type": "stream",
     "text": [
      "{'destination': 'U9d6decffc40617a061de90e9592a5a63', 'events': [{'type': 'message', 'message': {'type': 'text', 'id': '487081307563360433', 'quoteToken': 'ACPcsA7C2jY-JhZE7En_LkN0HcALZR34IhS0Ydt7XrV7Wx7UaHnbo9bU2k9eZ1ZSVK27hu_Wj65Qg0pisEHflfA7FvNk-sx0q9Yp1p9QSJjTOXuuZ_Jz08wfXG1_VeJWHM2CSuFMfHk8LXoUEI3g9g', 'text': '湯圓 閻芷姍'}, 'webhookEventId': '01HJ5YK2KJCMWCE5W7RBBQ7FCG', 'deliveryContext': {'isRedelivery': False}, 'timestamp': 1703154387151, 'source': {'type': 'user', 'userId': 'U064e523599867a6a842a0ee67c16d107'}, 'replyToken': '722ce0afbbbc4f16bb4185c1b54ccdd1', 'mode': 'active'}]}\n",
      "湯圓 閻芷姍\n",
      "湯圓\n",
      "閻芷姍\n",
      "錯誤：name 'wb' is not defined\n"
     ]
    },
    {
     "name": "stderr",
     "output_type": "stream",
     "text": [
      "127.0.0.1 - - [21/Dec/2023 18:26:27] \"POST / HTTP/1.1\" 200 -\n"
     ]
    },
    {
     "name": "stdout",
     "output_type": "stream",
     "text": [
      "{'destination': 'U9d6decffc40617a061de90e9592a5a63', 'events': [{'type': 'message', 'message': {'type': 'text', 'id': '487081322914512920', 'quoteToken': 'oolxVCRwiA9n2pOioHwZ5VPNq-YikKOYAzzu5Tg5MD69gtehMT5JY5rxstuQeg2Z11RZdjE2XpFR_glG_DsvBATeVoWFi0HJbEQK4cB6anYpOKtkG3BGHjZ1EVRQrl_z1EHCPw1c0YSiXOovUJG6aA', 'text': '湯圓 蘇凡誠'}, 'webhookEventId': '01HJ5YKBHNYZZ641X9EHYAWQFT', 'deliveryContext': {'isRedelivery': False}, 'timestamp': 1703154396457, 'source': {'type': 'user', 'userId': 'U064e523599867a6a842a0ee67c16d107'}, 'replyToken': '4c0011547e3f4918abda854195e4e8df', 'mode': 'active'}]}\n",
      "湯圓 蘇凡誠\n",
      "湯圓\n",
      "蘇凡誠\n",
      "錯誤：name 'wb' is not defined\n"
     ]
    },
    {
     "name": "stderr",
     "output_type": "stream",
     "text": [
      "127.0.0.1 - - [21/Dec/2023 18:26:36] \"POST / HTTP/1.1\" 200 -\n"
     ]
    },
    {
     "name": "stdout",
     "output_type": "stream",
     "text": [
      "{'destination': 'U9d6decffc40617a061de90e9592a5a63', 'events': [{'type': 'message', 'message': {'type': 'text', 'id': '487081335916068932', 'quoteToken': 'c7keB9cZwvGL2UT0uQXRKvzZZ6e1qIc7z5U6oWfuvDe4XMA4BzAIDHUkgae8SvXqhAvp3qzt6DeYzsIwukHugYnJP1uxQhQQY2Rf1J0wGdeoqpGTlVAVzm-w4H_Z25FJjdRyZtkb0epjW1HBVY2dGw', 'text': '湯圓 李又辰'}, 'webhookEventId': '01HJ5YKK60T18AQ428V748VF5C', 'deliveryContext': {'isRedelivery': False}, 'timestamp': 1703154404238, 'source': {'type': 'user', 'userId': 'U064e523599867a6a842a0ee67c16d107'}, 'replyToken': '5115f5d270dd4f1688d8a9dccc79aa45', 'mode': 'active'}]}\n",
      "湯圓 李又辰\n",
      "湯圓\n",
      "李又辰\n",
      "錯誤：name 'wb' is not defined\n"
     ]
    },
    {
     "name": "stderr",
     "output_type": "stream",
     "text": [
      "127.0.0.1 - - [21/Dec/2023 18:26:44] \"POST / HTTP/1.1\" 200 -\n"
     ]
    },
    {
     "name": "stdout",
     "output_type": "stream",
     "text": [
      "{'destination': 'U9d6decffc40617a061de90e9592a5a63', 'events': [{'type': 'message', 'message': {'type': 'text', 'id': '487081353549709329', 'quoteToken': 'bbQlR2-_6Tc_vcn45TpLC-t-nHdlvfTErIGcHBfNuIEZeJ9hLuL82dMLNLlKQF9zIETE8fAcgSgXX6khrXdGl9k5AcT_CBvSliDdY-IGPjYkp8g8uVDJU8AdwQq1rmSDjYFyIpHuM8aRlLWEb9fgiw', 'text': '湯圓 呂宸瑋'}, 'webhookEventId': '01HJ5YKX1SAVEJ88WFA8VPA799', 'deliveryContext': {'isRedelivery': False}, 'timestamp': 1703154414559, 'source': {'type': 'user', 'userId': 'U064e523599867a6a842a0ee67c16d107'}, 'replyToken': '6782d11bad4d4424af22c781af9ff5e3', 'mode': 'active'}]}\n",
      "湯圓 呂宸瑋\n",
      "湯圓\n",
      "呂宸瑋\n",
      "錯誤：name 'wb' is not defined\n"
     ]
    },
    {
     "name": "stderr",
     "output_type": "stream",
     "text": [
      "127.0.0.1 - - [21/Dec/2023 18:26:54] \"POST / HTTP/1.1\" 200 -\n"
     ]
    },
    {
     "name": "stdout",
     "output_type": "stream",
     "text": [
      "{'destination': 'U9d6decffc40617a061de90e9592a5a63', 'events': [{'type': 'message', 'message': {'type': 'text', 'id': '487081371232371054', 'quoteToken': '7DT-DY3Ge81558JapuCcHEGK9zbirMSnYxs4APX8DqkTJ8HTaQCvX9RT5SQEE2DBORywkxYw8rBpQM577SQjseOEbZuPoJWEHOh7PszFhjyNT08DQeAjU3j1QlURg8m_ybI0oXVnjLDyF9nBht-DZA', 'text': '湯圓 古清賢'}, 'webhookEventId': '01HJ5YM7S81W86S04DZRCN36SS', 'deliveryContext': {'isRedelivery': False}, 'timestamp': 1703154425292, 'source': {'type': 'user', 'userId': 'U064e523599867a6a842a0ee67c16d107'}, 'replyToken': '68b843a9917f44e5bfc425a0c59e731e', 'mode': 'active'}]}\n",
      "湯圓 古清賢\n",
      "湯圓\n",
      "古清賢\n",
      "錯誤：name 'wb' is not defined\n"
     ]
    },
    {
     "name": "stderr",
     "output_type": "stream",
     "text": [
      "127.0.0.1 - - [21/Dec/2023 18:27:05] \"POST / HTTP/1.1\" 200 -\n"
     ]
    },
    {
     "name": "stdout",
     "output_type": "stream",
     "text": [
      "{'destination': 'U9d6decffc40617a061de90e9592a5a63', 'events': [{'type': 'message', 'message': {'type': 'text', 'id': '487081410072150116', 'quoteToken': 'KpSr4Aq1UGALDuc49YghpLgSHyB-QzbNsx8O40rzAy2QQzl3ntBR7gLpRzvffztu19aArUebsW1w3OAm_0lE5rJWmIN4aI1QCL1Du8TJTlnz3Qk3HAN7JJZxjD515k5K89SMx9VdwMi20t4xLrxhUQ', 'text': '湯圓 魏君伃'}, 'webhookEventId': '01HJ5YMYE46PK7THMANW4KKJD2', 'deliveryContext': {'isRedelivery': False}, 'timestamp': 1703154448328, 'source': {'type': 'user', 'userId': 'U064e523599867a6a842a0ee67c16d107'}, 'replyToken': '2e7dc12e1ae24bfba3a0b5b779f40e60', 'mode': 'active'}]}\n",
      "湯圓 魏君伃\n",
      "湯圓\n",
      "魏君伃\n",
      "錯誤：name 'wb' is not defined\n"
     ]
    },
    {
     "name": "stderr",
     "output_type": "stream",
     "text": [
      "127.0.0.1 - - [21/Dec/2023 18:27:28] \"POST / HTTP/1.1\" 200 -\n"
     ]
    },
    {
     "name": "stdout",
     "output_type": "stream",
     "text": [
      "{'destination': 'U9d6decffc40617a061de90e9592a5a63', 'events': [{'type': 'message', 'message': {'type': 'text', 'id': '487081420306252097', 'quoteToken': 'FRLmDXsHtAt0VB_UxEyXAjb3jz_AgKfKXkrBxFt5VRgEvRWk1Ytrid4yd4Jl3RMQYxwpVaNcvVOnLfNi-HbUb5OhQeDqm0db28zBUwCHY17YTzVYo3bEa07Nb3l60_e5F96YeoBEoxQ84JPFnqjjJA', 'text': '湯圓 陳寬宇'}, 'webhookEventId': '01HJ5YN4A9ZBMEJJHKMHX06RJB', 'deliveryContext': {'isRedelivery': False}, 'timestamp': 1703154454356, 'source': {'type': 'user', 'userId': 'U064e523599867a6a842a0ee67c16d107'}, 'replyToken': 'b2af088b18fe4c568167015a0c074986', 'mode': 'active'}]}\n",
      "湯圓 陳寬宇\n",
      "湯圓\n",
      "陳寬宇\n",
      "錯誤：name 'wb' is not defined\n"
     ]
    },
    {
     "name": "stderr",
     "output_type": "stream",
     "text": [
      "127.0.0.1 - - [21/Dec/2023 18:27:34] \"POST / HTTP/1.1\" 200 -\n",
      "127.0.0.1 - - [21/Dec/2023 18:27:41] \"POST / HTTP/1.1\" 200 -\n"
     ]
    },
    {
     "name": "stdout",
     "output_type": "stream",
     "text": [
      "{'destination': 'U9d6decffc40617a061de90e9592a5a63', 'events': [{'type': 'message', 'message': {'type': 'text', 'id': '487081431731536113', 'quoteToken': '-xh_6dRw33Or4N-5yIxjB4HkbzkDvueAg-qBmBhudKtTnzyTRNZpaBFf-Hfj6etBFy0DRY8eBcFjo1RgMDIV-HBdqJX648Bo3viQrtdI9ySJKbdx7QJDWZLOs2R1OTLTP-aR2zLWe14UOtufeaiv8w', 'text': '湯圓 楊騰翰'}, 'webhookEventId': '01HJ5YNAZ75EBHS41E32FHBSMV', 'deliveryContext': {'isRedelivery': False}, 'timestamp': 1703154461162, 'source': {'type': 'user', 'userId': 'U064e523599867a6a842a0ee67c16d107'}, 'replyToken': '38b1630bbac64467b4b29c4b9b5ab37c', 'mode': 'active'}]}\n",
      "湯圓 楊騰翰\n",
      "湯圓\n",
      "楊騰翰\n",
      "error\n",
      "{'destination': 'U9d6decffc40617a061de90e9592a5a63', 'events': [{'type': 'message', 'message': {'type': 'text', 'id': '487081445253447883', 'quoteToken': 'wKY7b7iFlemX0yuSBXGjyKU7V9U8Dj1_Wqb1fzJWRY_7hMrM1KTA5lMZll5yMvZipD3iV8SFZPTr9I63MTAye2APGyCnIgKTLpB4Q3R5AWLD_WXhp1acY9w5xZ21uaQRLlQCfZzAqCbTCoPjVcnRLQ', 'text': '湯圓 楊騰漢'}, 'webhookEventId': '01HJ5YNJZNWAKJ9TEDCPTKQ2MG', 'deliveryContext': {'isRedelivery': False}, 'timestamp': 1703154469372, 'source': {'type': 'user', 'userId': 'U064e523599867a6a842a0ee67c16d107'}, 'replyToken': '4abbfccc52b242f1bcc8f74399c23e65', 'mode': 'active'}]}\n",
      "湯圓 楊騰漢\n",
      "湯圓\n",
      "楊騰漢\n",
      "錯誤：name 'wb' is not defined\n"
     ]
    },
    {
     "name": "stderr",
     "output_type": "stream",
     "text": [
      "127.0.0.1 - - [21/Dec/2023 18:27:49] \"POST / HTTP/1.1\" 200 -\n"
     ]
    },
    {
     "name": "stdout",
     "output_type": "stream",
     "text": [
      "{'destination': 'U9d6decffc40617a061de90e9592a5a63', 'events': [{'type': 'message', 'message': {'type': 'text', 'id': '487081463406133613', 'quoteToken': 'I_Q-9eNhhkZUMvxolqZM-ateDNMM03UC5_mkXkpi6pBo2BS1boXqhiwLs4Q_3BwBTc_2hB47gFwYpQ8GzepqiKpJ4UYjH0IqBRH46P9fILdAdEX3_Z5yi7nKOM998u5USLyDP1f0NXw68aAyg-26jQ', 'text': '湯圓 陳梓妤'}, 'webhookEventId': '01HJ5YNX1ED1H5PP42W2C75S4B', 'deliveryContext': {'isRedelivery': False}, 'timestamp': 1703154480143, 'source': {'type': 'user', 'userId': 'U064e523599867a6a842a0ee67c16d107'}, 'replyToken': 'da3d30de6dbe436797c55e020b2ae057', 'mode': 'active'}]}\n",
      "湯圓 陳梓妤\n",
      "湯圓\n",
      "陳梓妤\n",
      "錯誤：name 'wb' is not defined\n"
     ]
    },
    {
     "name": "stderr",
     "output_type": "stream",
     "text": [
      "127.0.0.1 - - [21/Dec/2023 18:27:59] \"POST / HTTP/1.1\" 200 -\n"
     ]
    },
    {
     "name": "stdout",
     "output_type": "stream",
     "text": [
      "{'destination': 'U9d6decffc40617a061de90e9592a5a63', 'events': [{'type': 'message', 'message': {'type': 'text', 'id': '487081474731540689', 'quoteToken': 'uFoJ4iiKEWSoibCeufcBH49qdQ35lozyQIYDtCYvbGGhk3-zJnrLtWtIpz5b56hfEO-kPqF_83vcZWKzG24opAaWVVNrENm5hYKdXLlnO1zsXgPCtumAGmjUbs0lxC7J6anPyKnzM3wvJJXfKNit1w', 'text': '湯圓 蘇俊愷'}, 'webhookEventId': '01HJ5YP3NRSSVHH2CSBGZF4NZV', 'deliveryContext': {'isRedelivery': False}, 'timestamp': 1703154486793, 'source': {'type': 'user', 'userId': 'U064e523599867a6a842a0ee67c16d107'}, 'replyToken': '7a4b9865277a46058fcd00398dffedf9', 'mode': 'active'}]}\n",
      "湯圓 蘇俊愷\n",
      "湯圓\n",
      "蘇俊愷\n",
      "錯誤：name 'wb' is not defined\n"
     ]
    },
    {
     "name": "stderr",
     "output_type": "stream",
     "text": [
      "127.0.0.1 - - [21/Dec/2023 18:28:06] \"POST / HTTP/1.1\" 200 -\n"
     ]
    },
    {
     "name": "stdout",
     "output_type": "stream",
     "text": [
      "{'destination': 'U9d6decffc40617a061de90e9592a5a63', 'events': [{'type': 'message', 'message': {'type': 'text', 'id': '487081484293767675', 'quoteToken': 'vCCPVTEFzcW1lxf5yxGW_8mlBoxDSivyHshk54o0PJgnn9jOpvBRqKABI_oU8HMtpQZf8Tx2LZ8DWdrjjfz15m-lCZilytA4mgZSN2xzGTp0VfuC6DJXoT3pRjdplJ-HstuHLzkNWIne1-pzZ73Fgw', 'text': '湯圓 呂尚哲'}, 'webhookEventId': '01HJ5YP95WCDAHTFC76HACWZZW', 'deliveryContext': {'isRedelivery': False}, 'timestamp': 1703154492533, 'source': {'type': 'user', 'userId': 'U064e523599867a6a842a0ee67c16d107'}, 'replyToken': '67dc315523a44de0abe2418b95316532', 'mode': 'active'}]}\n",
      "湯圓 呂尚哲\n",
      "湯圓\n",
      "呂尚哲\n",
      "錯誤：name 'wb' is not defined\n"
     ]
    },
    {
     "name": "stderr",
     "output_type": "stream",
     "text": [
      "127.0.0.1 - - [21/Dec/2023 18:28:12] \"POST / HTTP/1.1\" 200 -\n"
     ]
    },
    {
     "name": "stdout",
     "output_type": "stream",
     "text": [
      "{'destination': 'U9d6decffc40617a061de90e9592a5a63', 'events': [{'type': 'message', 'message': {'type': 'text', 'id': '487081497648955683', 'quoteToken': 'tEYOl78_XdrDbavr_v6GZDr3-pj_fYFEsQa7zQsz94WcqxqZgPHCvPrgOOTAHUCQwOzYUiHJFtAXmhHYOuRLOOUPJYyvSXPey5QB9bV8fCjFOc5kVRIPw1HCJQLvtWWceV_nGYgtoNVt6URnFBQCUg', 'text': '湯圓 薛宜翔'}, 'webhookEventId': '01HJ5YPHC7T0HFYF6ND6Z1HFHW', 'deliveryContext': {'isRedelivery': False}, 'timestamp': 1703154500492, 'source': {'type': 'user', 'userId': 'U064e523599867a6a842a0ee67c16d107'}, 'replyToken': '5c4f997ef34d436fa9eb38bd9cf20542', 'mode': 'active'}]}\n",
      "湯圓 薛宜翔\n",
      "湯圓\n",
      "薛宜翔\n",
      "錯誤：name 'wb' is not defined\n"
     ]
    },
    {
     "name": "stderr",
     "output_type": "stream",
     "text": [
      "127.0.0.1 - - [21/Dec/2023 18:28:20] \"POST / HTTP/1.1\" 200 -\n"
     ]
    },
    {
     "name": "stdout",
     "output_type": "stream",
     "text": [
      "{'destination': 'U9d6decffc40617a061de90e9592a5a63', 'events': [{'type': 'message', 'message': {'type': 'text', 'id': '487081515265294529', 'quoteToken': '-I6fIi-21u0xMPFx5ZbKcNq_bob8ekKnMHf60D90nCLjuuVXTqKT7SSxevGi9EirC4KazuW2CBiCdEaaFhkYgfqztJityNOhHlXVfiIStVjmtRYdWGJOEy2nSn_kdwyWTc9digDaSMXSwPwRNb8FMg', 'text': '湯圓 林威佐'}, 'webhookEventId': '01HJ5YPVEB0V7N56HE1B0QWBHW', 'deliveryContext': {'isRedelivery': False}, 'timestamp': 1703154510953, 'source': {'type': 'user', 'userId': 'U064e523599867a6a842a0ee67c16d107'}, 'replyToken': 'f793702ca4494c439fc349fc6fae8e7d', 'mode': 'active'}]}\n",
      "湯圓 林威佐\n",
      "湯圓\n",
      "林威佐\n",
      "錯誤：name 'wb' is not defined\n"
     ]
    },
    {
     "name": "stderr",
     "output_type": "stream",
     "text": [
      "127.0.0.1 - - [21/Dec/2023 18:28:31] \"POST / HTTP/1.1\" 200 -\n"
     ]
    },
    {
     "name": "stdout",
     "output_type": "stream",
     "text": [
      "{'destination': 'U9d6decffc40617a061de90e9592a5a63', 'events': [{'type': 'message', 'message': {'type': 'text', 'id': '487081525733753318', 'quoteToken': 'sgu1oM9wwzprePRcASi92dMSid6gBh_Ii2K_5GnkctuYwKG5-S5rOcWt80ndk_TTeBsagz0K6YzW7AkuRYHHAYBjj0LOHeM9GfynfsEtowNmYWb0wa5pTFt3GtIfCNJNUBVvI7nMx37Pz4G-vp3caA', 'text': '湯圓 林彥輝'}, 'webhookEventId': '01HJ5YQ1D9N7RPBNDY9Q1R58ZA', 'deliveryContext': {'isRedelivery': False}, 'timestamp': 1703154517231, 'source': {'type': 'user', 'userId': 'U064e523599867a6a842a0ee67c16d107'}, 'replyToken': '648bef868bdc4393bd386a4d1fd43bf1', 'mode': 'active'}]}\n",
      "湯圓 林彥輝\n",
      "湯圓\n",
      "林彥輝\n",
      "錯誤：name 'wb' is not defined\n"
     ]
    },
    {
     "name": "stderr",
     "output_type": "stream",
     "text": [
      "127.0.0.1 - - [21/Dec/2023 18:28:37] \"POST / HTTP/1.1\" 200 -\n"
     ]
    },
    {
     "name": "stdout",
     "output_type": "stream",
     "text": [
      "{'destination': 'U9d6decffc40617a061de90e9592a5a63', 'events': [{'type': 'message', 'message': {'type': 'text', 'id': '487081541202870616', 'quoteToken': 'x3Bw6sjvKMH_5XovKxTq3oPnC_AYyl7qeM21h9BjJ5y_CucNR5pUWGxYYk3ZmcRet7GkwDJM9uVugp0GE4OiycMmyTkddiNeOJ6gXNW8-d1-OlZowIiE3ua-_vzIw_KsREAwVgnwcQoHH6TjeqFMQQ', 'text': '湯圓 邱珮芬'}, 'webhookEventId': '01HJ5YQARCH1A802771R2C6CM8', 'deliveryContext': {'isRedelivery': False}, 'timestamp': 1703154526606, 'source': {'type': 'user', 'userId': 'U064e523599867a6a842a0ee67c16d107'}, 'replyToken': '81fc5b2a5e0849528b65a7421e0f356b', 'mode': 'active'}]}\n",
      "湯圓 邱珮芬\n",
      "湯圓\n",
      "邱珮芬\n",
      "錯誤：name 'wb' is not defined\n"
     ]
    },
    {
     "name": "stderr",
     "output_type": "stream",
     "text": [
      "127.0.0.1 - - [21/Dec/2023 18:28:46] \"POST / HTTP/1.1\" 200 -\n"
     ]
    },
    {
     "name": "stdout",
     "output_type": "stream",
     "text": [
      "{'destination': 'U9d6decffc40617a061de90e9592a5a63', 'events': [{'type': 'message', 'message': {'type': 'text', 'id': '487081554154094823', 'quoteToken': 'uQ-U6XL2LpWAgZAHKVlqDBSlaAtpciyvLzN4bitHVJTyjWYDTSvC31eRxmZ6Hc68DVf2M4sVLWzwnpGxMF8MxWDoq-inX249AzYwXnGcifswrI1hjKo057fi5PR0yAjnq1BMYvi4ax7zCyJZk8Sxew', 'text': '湯圓 劉沛瑜'}, 'webhookEventId': '01HJ5YQHWSVC5SDM9HYAZCXYG8', 'deliveryContext': {'isRedelivery': False}, 'timestamp': 1703154534240, 'source': {'type': 'user', 'userId': 'U064e523599867a6a842a0ee67c16d107'}, 'replyToken': '5a0455342c7243cf81efb77ed8a2b2a6', 'mode': 'active'}]}\n",
      "湯圓 劉沛瑜\n",
      "湯圓\n",
      "劉沛瑜\n",
      "錯誤：name 'wb' is not defined\n"
     ]
    },
    {
     "name": "stderr",
     "output_type": "stream",
     "text": [
      "127.0.0.1 - - [21/Dec/2023 18:28:54] \"POST / HTTP/1.1\" 200 -\n"
     ]
    },
    {
     "name": "stdout",
     "output_type": "stream",
     "text": [
      "{'destination': 'U9d6decffc40617a061de90e9592a5a63', 'events': [{'type': 'message', 'message': {'type': 'text', 'id': '487081572944838694', 'quoteToken': 'IgIe-I8qvqaIbBOA_ETIZ2w0OsAIt1gpPjZUBbjsaxTOT5XCMnhVAwX_WO2KqGfS_WJAlBoykkfj62NRpeYZ0uY3S1LZHqGxgsVrSJPaWGm7kV2Nd8yBKkQczSwQg31rHmkdtU7opR43XbuEFL-Ypg', 'text': '湯圓 許宸華'}, 'webhookEventId': '01HJ5YQX46K04CY7SF1Y2WSXAM', 'deliveryContext': {'isRedelivery': False}, 'timestamp': 1703154545474, 'source': {'type': 'user', 'userId': 'U064e523599867a6a842a0ee67c16d107'}, 'replyToken': '8dc2d73b2c8d4322a422342be7eedbcc', 'mode': 'active'}]}\n",
      "湯圓 許宸華\n",
      "湯圓\n",
      "許宸華\n",
      "錯誤：name 'wb' is not defined\n"
     ]
    },
    {
     "name": "stderr",
     "output_type": "stream",
     "text": [
      "127.0.0.1 - - [21/Dec/2023 18:29:05] \"POST / HTTP/1.1\" 200 -\n"
     ]
    },
    {
     "name": "stdout",
     "output_type": "stream",
     "text": [
      "{'destination': 'U9d6decffc40617a061de90e9592a5a63', 'events': [{'type': 'message', 'message': {'type': 'text', 'id': '487081594772521396', 'quoteToken': 'BZ4mquf2JniI1SPwczakDzpxKDkfGpcWlIENi6MuAQmxy-DcT4fsimGIv6JBUAX432_9lS36nLl6IcLgCwF25EQ3C0JLKDZtGCcES-_xQ9yQ8HCIKHmjEOqNFIlm0eR0qv0KeOQpX3e24SNsZsKjGQ', 'text': '湯圓 劉子齊'}, 'webhookEventId': '01HJ5YR9YEYBTQ843HX7ZMCFMZ', 'deliveryContext': {'isRedelivery': False}, 'timestamp': 1703154558419, 'source': {'type': 'user', 'userId': 'U064e523599867a6a842a0ee67c16d107'}, 'replyToken': '88e97254a7a14da5a5786dc97e0e833d', 'mode': 'active'}]}\n",
      "湯圓 劉子齊\n",
      "湯圓\n",
      "劉子齊\n",
      "錯誤：name 'wb' is not defined\n"
     ]
    },
    {
     "name": "stderr",
     "output_type": "stream",
     "text": [
      "127.0.0.1 - - [21/Dec/2023 18:29:19] \"POST / HTTP/1.1\" 200 -\n",
      "127.0.0.1 - - [21/Dec/2023 18:29:28] \"POST / HTTP/1.1\" 200 -\n"
     ]
    },
    {
     "name": "stdout",
     "output_type": "stream",
     "text": [
      "{'destination': 'U9d6decffc40617a061de90e9592a5a63', 'events': [{'type': 'message', 'message': {'type': 'text', 'id': '487081611146297543', 'quoteToken': '7V_E67Uu5knNnzbxT0sMmnAq6anTkBnK428iaheuep9hGpZWbF6gO4sgp_LKQfCGfDvnPWHBAEKa_MAx11meezrnCekz4eh18cKIo5scdRgJA33aJEOvneavWY6C32qtIjT2X8zoT0-kZN_-DINB1w', 'text': '湯圓 郭彥竹'}, 'webhookEventId': '01HJ5YRKJ1R1K2K7NG0GBK53ZW', 'deliveryContext': {'isRedelivery': False}, 'timestamp': 1703154568262, 'source': {'type': 'user', 'userId': 'U064e523599867a6a842a0ee67c16d107'}, 'replyToken': 'a85fd267c8c24a79a5b32091e04db263', 'mode': 'active'}]}\n",
      "湯圓 郭彥竹\n",
      "湯圓\n",
      "郭彥竹\n",
      "error\n",
      "{'destination': 'U9d6decffc40617a061de90e9592a5a63', 'events': [{'type': 'message', 'message': {'type': 'text', 'id': '487081624233050390', 'quoteToken': 'ux5Q7ZVuq-nsfDJF_zx6HJwzWMqELEOr6QFV61T16DNBP_uueb8s_IjrnSHb3n7p1MW8IFTxSjK4EOsTZcBj_WXQDmaVpxH9jMHDa_F4qu8Jw_lB8tLkX-Cp50XssDOE3TXKH_bSiLXkl2-2tG-r8Q', 'text': '湯圓 郭晏竹'}, 'webhookEventId': '01HJ5YRTQQBKX5J0ADSVZG7BVQ', 'deliveryContext': {'isRedelivery': False}, 'timestamp': 1703154576080, 'source': {'type': 'user', 'userId': 'U064e523599867a6a842a0ee67c16d107'}, 'replyToken': 'da0b821aa5444e29bdecb54819cc2910', 'mode': 'active'}]}\n",
      "湯圓 郭晏竹\n",
      "湯圓\n",
      "郭晏竹\n",
      "錯誤：name 'wb' is not defined\n"
     ]
    },
    {
     "name": "stderr",
     "output_type": "stream",
     "text": [
      "127.0.0.1 - - [21/Dec/2023 18:29:35] \"POST / HTTP/1.1\" 200 -\n"
     ]
    },
    {
     "name": "stdout",
     "output_type": "stream",
     "text": [
      "{'destination': 'U9d6decffc40617a061de90e9592a5a63', 'events': [{'type': 'message', 'message': {'type': 'text', 'id': '487081638929367164', 'quoteToken': 'dYXS-LToKPn5kOB0H-NCCcUScUzYmSdhY8VuruLcq4ZPgxeQJhH7vdHI3QUqEdx_CuekAujnZUi6W27jT4KB1gE520_ZFfGPgAW_Re9mwHesCV5PL2rPjCqh6f-7hRyJBOa-JAW4MN70b9eaqydUUQ', 'text': '湯圓 林耘辰'}, 'webhookEventId': '01HJ5YS3FT3FNWR3Y96XWVVAZ3', 'deliveryContext': {'isRedelivery': False}, 'timestamp': 1703154584842, 'source': {'type': 'user', 'userId': 'U064e523599867a6a842a0ee67c16d107'}, 'replyToken': '46089200ac6e4649be1dd2df108d6a7e', 'mode': 'active'}]}\n",
      "湯圓 林耘辰\n",
      "湯圓\n",
      "林耘辰\n",
      "錯誤：name 'wb' is not defined\n"
     ]
    },
    {
     "name": "stderr",
     "output_type": "stream",
     "text": [
      "127.0.0.1 - - [21/Dec/2023 18:29:44] \"POST / HTTP/1.1\" 200 -\n"
     ]
    },
    {
     "name": "stdout",
     "output_type": "stream",
     "text": [
      "{'destination': 'U9d6decffc40617a061de90e9592a5a63', 'events': [{'type': 'message', 'message': {'type': 'text', 'id': '487081656528667190', 'quoteToken': 'iFkBRBbQlEmrBe8hdkLrX2HYmJsE3ptyGVDYDexNU-JpopEeioVItL16GlCzgMUusnPRFLDJIatBWWfGeismy1c1s9NcTDdzviiAKkOwu60WDu_TWgA_WB6uk2qQngyn4X7WV1qVWibGPnzy-4PCaA', 'text': '湯圓 余品劭'}, 'webhookEventId': '01HJ5YSDPG88QQN0RSG0GJJ9FN', 'deliveryContext': {'isRedelivery': False}, 'timestamp': 1703154595268, 'source': {'type': 'user', 'userId': 'U064e523599867a6a842a0ee67c16d107'}, 'replyToken': '92e4e519aaf549668d491b300ba0bd50', 'mode': 'active'}]}\n",
      "湯圓 余品劭\n",
      "湯圓\n",
      "余品劭\n",
      "錯誤：name 'wb' is not defined\n"
     ]
    },
    {
     "name": "stderr",
     "output_type": "stream",
     "text": [
      "127.0.0.1 - - [21/Dec/2023 18:29:55] \"POST / HTTP/1.1\" 200 -\n"
     ]
    },
    {
     "name": "stdout",
     "output_type": "stream",
     "text": [
      "{'destination': 'U9d6decffc40617a061de90e9592a5a63', 'events': [{'type': 'message', 'message': {'type': 'text', 'id': '487081678759264309', 'quoteToken': 'nsShIecjp5wMGU9p0Aim5DPyXQwjqFc32r6OyU56F7blS9S9dYzyM2q3hZXka9uqChQo2VBxAqpxOuylA9HRPOT5vO9WY1oHFIFTZax2FK12b-tVwAmYPkbuhEiBUlJjrLqKBxZpuNQcoca1D5fXLg', 'text': '湯圓 蔡捷倫'}, 'webhookEventId': '01HJ5YSTT3R08S3BA8QKPVV3FX', 'deliveryContext': {'isRedelivery': False}, 'timestamp': 1703154608500, 'source': {'type': 'user', 'userId': 'U064e523599867a6a842a0ee67c16d107'}, 'replyToken': 'aa1dda81351646748d57a90b1335f108', 'mode': 'active'}]}\n",
      "湯圓 蔡捷倫\n",
      "湯圓\n",
      "蔡捷倫\n",
      "錯誤：name 'wb' is not defined\n"
     ]
    },
    {
     "name": "stderr",
     "output_type": "stream",
     "text": [
      "127.0.0.1 - - [21/Dec/2023 18:30:08] \"POST / HTTP/1.1\" 200 -\n",
      "127.0.0.1 - - [21/Dec/2023 18:30:17] \"POST / HTTP/1.1\" 200 -\n"
     ]
    },
    {
     "name": "stdout",
     "output_type": "stream",
     "text": [
      "{'destination': 'U9d6decffc40617a061de90e9592a5a63', 'events': [{'type': 'message', 'message': {'type': 'text', 'id': '487081694882168849', 'quoteToken': 'zMcRzX16jLrhDA8geKzTeNWoU6B3Ll3yp6rHlYljyCiRLYbqVzwfleqqabSr2fMoaa7y-JwSZOiXGavp8JfFSrZIOYa6mYyW3Aoi1SryZ8_v3akicMQGHweSd3mC2e3-gD58uNrzpH9uDkVm95sWpA', 'text': '湯圓 黃韻璇'}, 'webhookEventId': '01HJ5YT42EXNWQQHRMWDX192SF', 'deliveryContext': {'isRedelivery': False}, 'timestamp': 1703154618010, 'source': {'type': 'user', 'userId': 'U064e523599867a6a842a0ee67c16d107'}, 'replyToken': '48b9b2e7fe1643c7a33607f2f07c50aa', 'mode': 'active'}]}\n",
      "湯圓 黃韻璇\n",
      "湯圓\n",
      "黃韻璇\n",
      "error\n",
      "{'destination': 'U9d6decffc40617a061de90e9592a5a63', 'events': [{'type': 'message', 'message': {'type': 'text', 'id': '487081712850567255', 'quoteToken': 'acggLuzgmcGQsetsDVYHm5nje-1lHUvvnct50xZq5V5hfKmV54rQB0_g3TinlCLN9a25TWHUd6T-e4CxVUwtQU2UY0r41CeuAe0UruzPXAtzjI6fbDBAdG2woYFqI4oHTcdwHbE2Byk4HloNSHIXHA', 'text': '湯圓 蔡佳蓁'}, 'webhookEventId': '01HJ5YTEC5D63JTKCTPZ3BA79X', 'deliveryContext': {'isRedelivery': False}, 'timestamp': 1703154628846, 'source': {'type': 'user', 'userId': 'U064e523599867a6a842a0ee67c16d107'}, 'replyToken': '11676f8e6a6349d68b724c0b412d7d0e', 'mode': 'active'}]}\n",
      "湯圓 蔡佳蓁\n",
      "湯圓\n",
      "蔡佳蓁\n",
      "錯誤：name 'wb' is not defined\n"
     ]
    },
    {
     "name": "stderr",
     "output_type": "stream",
     "text": [
      "127.0.0.1 - - [21/Dec/2023 18:30:28] \"POST / HTTP/1.1\" 200 -\n",
      "127.0.0.1 - - [21/Dec/2023 18:30:35] \"POST / HTTP/1.1\" 200 -\n"
     ]
    },
    {
     "name": "stdout",
     "output_type": "stream",
     "text": [
      "{'destination': 'U9d6decffc40617a061de90e9592a5a63', 'events': [{'type': 'message', 'message': {'type': 'text', 'id': '487081725064118423', 'quoteToken': 'kkYm-ugeGwb3pmos-CpaqrD68KXkvmG9ITZNHFOOEskeEJmXTLuArVyzoviqipsRckMxUJ1bEXhe_oF4Un90rYWeolqMXnR9aDWo9V6f_SW189K-BVA0X7hqNQMfvZsbEuthn2Z5_PKZVAfCEU1RrQ', 'text': '湯圓 林珮蓉'}, 'webhookEventId': '01HJ5YTNBRE67VY3YH03D16HT9', 'deliveryContext': {'isRedelivery': False}, 'timestamp': 1703154636109, 'source': {'type': 'user', 'userId': 'U064e523599867a6a842a0ee67c16d107'}, 'replyToken': '638ba9456b4d461f80f5ef9dbebdada7', 'mode': 'active'}]}\n",
      "湯圓 林珮蓉\n",
      "湯圓\n",
      "林珮蓉\n",
      "error\n",
      "{'destination': 'U9d6decffc40617a061de90e9592a5a63', 'events': [{'type': 'message', 'message': {'type': 'text', 'id': '487081740415533577', 'quoteToken': 'MJC5kV_V63yAkqcsqtFMyrcpXfiUpu3nyhGr3L9xjkB9Tf7wtOrR6noKLaHkRCtxdIenBXe8cKBFz3HV61supA9M3_Rw-pYkfhKLtPtpGCiTVFE7CG56EIQSJ-SZsCgTZKLSpplc4C9kNKMkWtDZMA', 'text': '湯圓 林佩蓉'}, 'webhookEventId': '01HJ5YTYC3TQV96EZYDAANRXAM', 'deliveryContext': {'isRedelivery': False}, 'timestamp': 1703154645328, 'source': {'type': 'user', 'userId': 'U064e523599867a6a842a0ee67c16d107'}, 'replyToken': '28591f62281840a794aaa171e8997b50', 'mode': 'active'}]}\n",
      "湯圓 林佩蓉\n",
      "湯圓\n",
      "林佩蓉\n",
      "錯誤：name 'wb' is not defined\n"
     ]
    },
    {
     "name": "stderr",
     "output_type": "stream",
     "text": [
      "127.0.0.1 - - [21/Dec/2023 18:30:45] \"POST / HTTP/1.1\" 200 -\n"
     ]
    },
    {
     "name": "stdout",
     "output_type": "stream",
     "text": [
      "{'destination': 'U9d6decffc40617a061de90e9592a5a63', 'events': [{'type': 'message', 'message': {'type': 'text', 'id': '487081753652232788', 'quoteToken': 'Y8lcneAXTk0eVVr3hqRMqRqFn4UCXsi2Ys9ipxWgjZEytmxlPBU4HGUW_cxVwzKKfutuV72M8vUxCv0ZyGz3vLsaDvMnSry7MJN9jvEwYCa3JCDJBPDfHPfqXbw8Y02G1UhxPLaLt3x_By2B1kHPcQ', 'text': '湯圓 宋方瑜'}, 'webhookEventId': '01HJ5YV6BM2W6E06GSDXEY7053', 'deliveryContext': {'isRedelivery': False}, 'timestamp': 1703154653096, 'source': {'type': 'user', 'userId': 'U064e523599867a6a842a0ee67c16d107'}, 'replyToken': 'a03a67ba8969498581ea50a099b42a6e', 'mode': 'active'}]}\n",
      "湯圓 宋方瑜\n",
      "湯圓\n",
      "宋方瑜\n",
      "錯誤：name 'wb' is not defined\n"
     ]
    },
    {
     "name": "stderr",
     "output_type": "stream",
     "text": [
      "127.0.0.1 - - [21/Dec/2023 18:30:53] \"POST / HTTP/1.1\" 200 -\n"
     ]
    },
    {
     "name": "stdout",
     "output_type": "stream",
     "text": [
      "{'destination': 'U9d6decffc40617a061de90e9592a5a63', 'events': [{'type': 'message', 'message': {'type': 'text', 'id': '487081769255043291', 'quoteToken': 'WvTp845KkS3md6vjOfTjKKYam0DYDcNwE-mzQ3SPjnk83Y5ZG3je_8lLHLjgJEHt3o8HGljGXW3v7ssxI69b57QvEPxiM1PQWLMrqodTswuPNT1Vd4mfRIHYjdPZG5cza3etqIaCoDt7tgNiXzDjGA', 'text': '湯圓 廖昱雯'}, 'webhookEventId': '01HJ5YVF62BM7KQ24XH4VBYZ04', 'deliveryContext': {'isRedelivery': False}, 'timestamp': 1703154662371, 'source': {'type': 'user', 'userId': 'U064e523599867a6a842a0ee67c16d107'}, 'replyToken': '82929c9b4844484e91e92211a3c264f1', 'mode': 'active'}]}\n",
      "湯圓 廖昱雯\n",
      "湯圓\n",
      "廖昱雯\n",
      "錯誤：name 'wb' is not defined\n"
     ]
    },
    {
     "name": "stderr",
     "output_type": "stream",
     "text": [
      "127.0.0.1 - - [21/Dec/2023 18:31:02] \"POST / HTTP/1.1\" 200 -\n"
     ]
    },
    {
     "name": "stdout",
     "output_type": "stream",
     "text": [
      "{'destination': 'U9d6decffc40617a061de90e9592a5a63', 'events': [{'type': 'message', 'message': {'type': 'text', 'id': '487081795679683250', 'quoteToken': 'tINoLfsdi2cWIjP0jrMGOxhV6AzYg7_E7NxPY_p5XZtCyjpAIMFQAirMEvSn0tMi8DrVUOipIrKM4-35qf8y6KXchcEdL1a1gIIU5nzksWfD2CFNhARnyt82sg3u0fPfDFTEGsyxJMR5_wXM7J5LqQ', 'text': '湯圓 吳苡榛'}, 'webhookEventId': '01HJ5YVYQ20WWACX06N8RNZYD0', 'deliveryContext': {'isRedelivery': False}, 'timestamp': 1703154678098, 'source': {'type': 'user', 'userId': 'U064e523599867a6a842a0ee67c16d107'}, 'replyToken': 'b2ec937b01de4e6babfebaa40f6edcc8', 'mode': 'active'}]}\n",
      "湯圓 吳苡榛\n",
      "湯圓\n",
      "吳苡榛\n",
      "錯誤：name 'wb' is not defined\n"
     ]
    },
    {
     "name": "stderr",
     "output_type": "stream",
     "text": [
      "127.0.0.1 - - [21/Dec/2023 18:31:18] \"POST / HTTP/1.1\" 200 -\n"
     ]
    },
    {
     "name": "stdout",
     "output_type": "stream",
     "text": [
      "{'destination': 'U9d6decffc40617a061de90e9592a5a63', 'events': [{'type': 'message', 'message': {'type': 'text', 'id': '487081807507095609', 'quoteToken': 'g0PnO4dr9MOpTi5O5Q0uSUj6KzoZymGJ84Yew5u4vemcxTvCWnq0cz-YUha67kHD3XMWw11hvEQO3Nh97AFb_0LmL5fGsypzg70qVEvuouwCkQyRXICVbkx0BBScooybkXiE4auNqRuXwJqIUFNzBQ', 'text': '湯圓 王瑞辰'}, 'webhookEventId': '01HJ5YW5KF3W8246MBYGHHWM57', 'deliveryContext': {'isRedelivery': False}, 'timestamp': 1703154685179, 'source': {'type': 'user', 'userId': 'U064e523599867a6a842a0ee67c16d107'}, 'replyToken': '4fc094c6bc4b42d88dcb7de63d8ebac2', 'mode': 'active'}]}\n",
      "湯圓 王瑞辰\n",
      "湯圓\n",
      "王瑞辰\n",
      "錯誤：name 'wb' is not defined\n"
     ]
    },
    {
     "name": "stderr",
     "output_type": "stream",
     "text": [
      "127.0.0.1 - - [21/Dec/2023 18:31:25] \"POST / HTTP/1.1\" 200 -\n"
     ]
    },
    {
     "name": "stdout",
     "output_type": "stream",
     "text": [
      "{'destination': 'U9d6decffc40617a061de90e9592a5a63', 'events': [{'type': 'message', 'message': {'type': 'text', 'id': '487081820291072554', 'quoteToken': 'beSDK4fyGB-tnQis_bYSfStJS4IcRJeViIpDDjemR-u60FTYTdrCQ62BFm-aa_hGzszXkMJ606fOelGQA2IjmpDLTZMv4THoIoJB9fSZJwNgOAVqIoVJgFr58-Ar0HF7LRRzZHy8Ug1SBn7K3RXE-A', 'text': '湯圓 林柏均'}, 'webhookEventId': '01HJ5YWD57T1KC79MAZZGZBFYX', 'deliveryContext': {'isRedelivery': False}, 'timestamp': 1703154692779, 'source': {'type': 'user', 'userId': 'U064e523599867a6a842a0ee67c16d107'}, 'replyToken': 'e509f1181fda4fb6aab574132444f49b', 'mode': 'active'}]}\n",
      "湯圓 林柏均\n",
      "湯圓\n",
      "林柏均\n",
      "錯誤：name 'wb' is not defined\n"
     ]
    },
    {
     "name": "stderr",
     "output_type": "stream",
     "text": [
      "127.0.0.1 - - [21/Dec/2023 18:31:32] \"POST / HTTP/1.1\" 200 -\n"
     ]
    },
    {
     "name": "stdout",
     "output_type": "stream",
     "text": [
      "{'destination': 'U9d6decffc40617a061de90e9592a5a63', 'events': [{'type': 'message', 'message': {'type': 'text', 'id': '487081832404484198', 'quoteToken': 'rFp9ry4EiLgnCHr2aDdMxc0RI0jmTCCe248Yl7fisikmWxemINNMZwof1QbJHpeUSki4QpypImmqikpwE4Z175KW-UfHv2VC_rSjnaeQCe1qTfOZ7dK0K9kjj8yHXAqZmP7SAh8YonthBQN_y6uOJA', 'text': '湯圓 傅士通'}, 'webhookEventId': '01HJ5YWMBTWVED4E5Z97G930WJ', 'deliveryContext': {'isRedelivery': False}, 'timestamp': 1703154700159, 'source': {'type': 'user', 'userId': 'U064e523599867a6a842a0ee67c16d107'}, 'replyToken': '82996cd182a24ab29700800bb1543796', 'mode': 'active'}]}\n",
      "湯圓 傅士通\n",
      "湯圓\n",
      "傅士通\n",
      "錯誤：name 'wb' is not defined\n"
     ]
    },
    {
     "name": "stderr",
     "output_type": "stream",
     "text": [
      "127.0.0.1 - - [21/Dec/2023 18:31:40] \"POST / HTTP/1.1\" 200 -\n",
      "127.0.0.1 - - [21/Dec/2023 18:31:54] \"POST / HTTP/1.1\" 200 -\n"
     ]
    },
    {
     "name": "stdout",
     "output_type": "stream",
     "text": [
      "{'destination': 'U9d6decffc40617a061de90e9592a5a63', 'events': [{'type': 'message', 'message': {'type': 'text', 'id': '487081857218248775', 'quoteToken': '0KwiC8Xuf7EpDF41n2kLnrw75Pg69Vsr7eY16oLufCENoVx_nusMEkEZlO6bbMYLLuv3lVrYTO2ztyw-QuV2Za0QEP3BozRl8iQdSDmPxRjO6KuJ1yarVhrpghcAxpHxc8tAPYjH_eOgWeTUoJXHvQ', 'text': '湯圓 黃子郡'}, 'webhookEventId': '01HJ5YX2P2Y1TEV6EBX5WTK4CF', 'deliveryContext': {'isRedelivery': False}, 'timestamp': 1703154714891, 'source': {'type': 'user', 'userId': 'U064e523599867a6a842a0ee67c16d107'}, 'replyToken': '4b32eb32e96f4eb497ca3c8b9fbd3e89', 'mode': 'active'}]}\n",
      "湯圓 黃子郡\n",
      "湯圓\n",
      "黃子郡\n",
      "error\n",
      "{'destination': 'U9d6decffc40617a061de90e9592a5a63', 'events': [{'type': 'message', 'message': {'type': 'text', 'id': '487081888877117777', 'quoteToken': 'jN7gpKAITxyaH_GtLDeJM1RPML224TYddylNpIfunUmrsucXNS-s4X-aPzhpzM9DjeyH7oc5OT97Ol6dTWb2yntjjNTdLVi2pEsiixYMyacJUYvZJKsoXaN92fTWV5QxiK52BMhAf14EhPGSVgINJQ', 'text': '湯圓 周華瑋'}, 'webhookEventId': '01HJ5YXMYJYEA058ZE3W20FP0Q', 'deliveryContext': {'isRedelivery': False}, 'timestamp': 1703154733644, 'source': {'type': 'user', 'userId': 'U064e523599867a6a842a0ee67c16d107'}, 'replyToken': '4e05eb8ea100476f9e8d8e86d00f06ef', 'mode': 'active'}]}\n",
      "湯圓 周華瑋\n",
      "湯圓\n",
      "周華瑋\n",
      "錯誤：name 'wb' is not defined\n"
     ]
    },
    {
     "name": "stderr",
     "output_type": "stream",
     "text": [
      "127.0.0.1 - - [21/Dec/2023 18:32:14] \"POST / HTTP/1.1\" 200 -\n"
     ]
    },
    {
     "name": "stdout",
     "output_type": "stream",
     "text": [
      "{'destination': 'U9d6decffc40617a061de90e9592a5a63', 'events': [{'type': 'message', 'message': {'type': 'text', 'id': '487081950348837173', 'quoteToken': 'CibDHHd_50xAiAUXWvJ0rnRyILuJqfUWf9rtgCwFBvr8EEpLcrjyI-h0hdI9pQsKR6P0xpk3Ud5CjdUeyYFOlRripaLN4JexvPKcEVtUuK7DG_b23QxYOS8yA9w6aeSW95-jY-FKLEehgo_sUkB6Vw', 'text': '簡辰均'}, 'webhookEventId': '01HJ5YYRRFTYSYRNTXNZYXWNB7', 'deliveryContext': {'isRedelivery': False}, 'timestamp': 1703154770466, 'source': {'type': 'user', 'userId': 'Ufc3c841914c0f5f18b1f2ab0c8a85711'}, 'replyToken': '77512860954e4741a0bbd2974c261ad4', 'mode': 'active'}]}\n",
      "簡辰均\n"
     ]
    },
    {
     "name": "stderr",
     "output_type": "stream",
     "text": [
      "C:\\Users\\USER\\AppData\\Local\\Temp\\ipykernel_28840\\769156254.py:68: LineBotSdkDeprecatedIn30: Call to deprecated method reply_message. (Use 'from linebot.v3.messaging import MessagingApi' and 'MessagingApi(...).reply_message(...)' instead. See https://github.com/line/line-bot-sdk-python/blob/master/README.rst for more details.) -- Deprecated since version 3.0.0.\n",
      "  line_bot_api.reply_message(tk,find_by_name(sheet0, msg))\n",
      "127.0.0.1 - - [21/Dec/2023 18:32:50] \"POST / HTTP/1.1\" 200 -\n"
     ]
    },
    {
     "name": "stdout",
     "output_type": "stream",
     "text": [
      "{'destination': 'U9d6decffc40617a061de90e9592a5a63', 'events': [{'type': 'message', 'message': {'type': 'text', 'id': '487081967058944517', 'quoteToken': 'Tryu-xmft_ZVbsI6BuvpowmmKkd-MNdPiR1KOOhCXaG5hCNnoMPIZTxVzveLkEnLmMTDwH7l2z2fDLv55s-Kdc-V2ltsjmVgXHbxFBkUZmqGiGm7Wq1CxQmXPOVpw4lI2F8XRiCPQJlwhvQIXfqc7g', 'text': '簡辰鈞'}, 'webhookEventId': '01HJ5YZ2QQ3R4X9FR7NEFVAPKF', 'deliveryContext': {'isRedelivery': False}, 'timestamp': 1703154780444, 'source': {'type': 'user', 'userId': 'Ufc3c841914c0f5f18b1f2ab0c8a85711'}, 'replyToken': '18de93e3ae76493883f9b581444e639e', 'mode': 'active'}]}\n",
      "簡辰鈞\n"
     ]
    },
    {
     "name": "stderr",
     "output_type": "stream",
     "text": [
      "127.0.0.1 - - [21/Dec/2023 18:33:00] \"POST / HTTP/1.1\" 200 -\n"
     ]
    },
    {
     "ename": "",
     "evalue": "",
     "output_type": "error",
     "traceback": [
      "\u001b[1;31m在目前儲存格或上一個儲存格中執行程式碼時，Kernel 已損毀。請檢閱儲存格中的程式碼，找出失敗的可能原因。如需詳細資訊，請按一下<a href='https://aka.ms/vscodeJupyterKernelCrash'>這裡</a>。檢視 Jupyter <a href='command:jupyter.viewOutput'>記錄</a>，以取得進一步的詳細資料。"
     ]
    }
   ],
   "source": [
    "from flask import Flask, request\n",
    "from linebot import LineBotApi, WebhookHandler\n",
    "from linebot.models import TextSendMessage, ImageSendMessage    # 載入 TextSendMessage 和 ImageSendMessage 模組\n",
    "import json\n",
    "import openpyxl\n",
    "import glob\n",
    "from openpyxl import Workbook\n",
    "from openpyxl import load_workbook\n",
    "from openpyxl.formula import Tokenizer\n",
    "from openpyxl.formula.translate import Translator\n",
    "\n",
    "\n",
    "\n",
    "app = Flask(__name__)\n",
    "\n",
    "\n",
    "\n",
    "@app.route(\"/\", methods=['POST'])\n",
    "def linebot():\n",
    "    body = request.get_data(as_text=True)\n",
    "    json_data = json.loads(body)\n",
    "    print(json_data)\n",
    "    try:\n",
    "        workbook = openpyxl.Workbook()\n",
    "        wb = load_workbook(\"2023聖誕抽獎資格.xlsx\")\n",
    "\n",
    "        # 获取不同的工作表\n",
    "        # 获取工作表\n",
    "        sheet0 = wb[\"all\"]\n",
    "        sheet1 = wb[\"大一\"]\n",
    "        sheet2 = wb[\"大二\"]\n",
    "        sheet3 = wb[\"大三\"]\n",
    "        sheet4 = wb[\"大四\"]\n",
    "        #-----------------------------------------------------\n",
    "        line_bot_api = LineBotApi('AcmKERLAzUdVKoRjNqyX1iSH3UvKQXdtrg1LoS0uRub4uevvPtlAiiXsQJPWByByATZ/+qDduK5EDDn2+aNRIXDLLdM7wczi4a+P6EDhOOZp015vzydjf4X5duWPG4iN09UIxarC76zXXbo4bXQMWQdB04t89/1O/w1cDnyilFU=')  # 輸入 你的 Channel access token\n",
    "        handler = WebhookHandler('7a120ef7c50e3792c19f28dff47c0df4')         # 輸入 你的 Channel secret\n",
    "        signature = request.headers['X-Line-Signature']\n",
    "        handler.handle(body, signature)\n",
    "        tk = json_data['events'][0]['replyToken']\n",
    "        msg = json_data['events'][0]['message']['text']\n",
    "        print(msg)\n",
    "        try:\n",
    "            operate = msg.split(\" \",-1)[0]\n",
    "            name = msg.split(\" \",-1)[1]\n",
    "            print(operate)\n",
    "            print(name)\n",
    "        except:\n",
    "            pass\n",
    "\n",
    "        if msg == '指令':\n",
    "            line_bot_api.reply_message(tk,TextSendMessage(text=\"看資料 : 直接打名字\\n紀錄發抽獎券 : 發+空格+名字\\n收回發抽獎券 : 收+空格+名字\\n新增系卡K抽獎券 : 表演+空格+名字\\n新增湯圓會抽獎券 : 湯圓+空格+名字\\n新增聖誕布置合影抽獎券 : 合影+空格+名字\"))\n",
    "        elif operate == '發':\n",
    "            update_by_name(sheet0, name)\n",
    "            line_bot_api.reply_message(tk,TextSendMessage(text=\"已發放\"))\n",
    "            \n",
    "        elif operate == '收':\n",
    "            return_status_by_name(sheet0, name)\n",
    "            line_bot_api.reply_message(tk,TextSendMessage(text=\"已收回\"))\n",
    "        elif operate == '表演':\n",
    "            line_bot_api.reply_message(tk,TextSendMessage(text=perform_status_by_name(sheet0, name)))\n",
    "            \n",
    "        elif operate == '湯圓':\n",
    "            line_bot_api.reply_message(tk,TextSendMessage(text=dumpling_status_by_name(sheet0, name)))\n",
    "\n",
    "        elif operate == '合影':\n",
    "            line_bot_api.reply_message(tk,TextSendMessage(text=photo_status_by_name(sheet0, name)))\n",
    "        else:\n",
    "            line_bot_api.reply_message(tk,find_by_name(sheet0, msg))\n",
    "\n",
    "        wb.save(\"2023聖誕抽獎資格.xlsx\")  # 保存變更\n",
    "    except:\n",
    "        print('error')\n",
    "    return 'OK'\n",
    "\n",
    "def return_status_by_name(sheet, name):\n",
    "    i = 0\n",
    "    for row in sheet.iter_rows(min_row=1, max_row=sheet.max_row, values_only=True):\n",
    "        if row[1] == name:\n",
    "            # 找到匹配的名字，更新第 9 個值為 \"N\"\n",
    "            try:\n",
    "                sheet.cell(row= i+1 , column=9).value = \"N\"\n",
    "                wb.save(\"2023聖誕抽獎資格.xlsx\")  # 保存變更\n",
    "                print(\"工作簿成功保存\")\n",
    "            except Exception as e:\n",
    "                print(f\"錯誤：{e}\")\n",
    "            break\n",
    "        i = i+1\n",
    "\n",
    "def perform_status_by_name(sheet, name):\n",
    "    i = 0\n",
    "    for row in sheet.iter_rows(min_row=1, max_row=sheet.max_row, values_only=True):\n",
    "        if row[1] == name:\n",
    "            # \n",
    "            try:\n",
    "                if sheet.cell(row= i+1 , column=5).value == 1:\n",
    "                    sheet.cell(row= i+1 , column=5).value = 0\n",
    "                    sheet.cell(row= i+1 , column=8).value -= 1\n",
    "                    message = \"移除系卡K抽獎券\"\n",
    "                else:\n",
    "                    sheet.cell(row= i+1 , column=5).value = 1\n",
    "                    sheet.cell(row= i+1 , column=8).value += 1\n",
    "                    message = \"新增系卡K抽獎券\"\n",
    "\n",
    "                wb.save(\"2023聖誕抽獎資格.xlsx\")  # 保存變更\n",
    "                print(\"工作簿成功保存\")\n",
    "            except Exception as e:\n",
    "                print(f\"錯誤：{e}\")\n",
    "            break\n",
    "        i = i+1\n",
    "    \n",
    "    return message\n",
    "\n",
    "def dumpling_status_by_name(sheet, name):\n",
    "    i = 0\n",
    "    for row in sheet.iter_rows(min_row=1, max_row=sheet.max_row, values_only=True):\n",
    "        if row[1] == name:\n",
    "            # \n",
    "            try:\n",
    "                if sheet.cell(row= i+1 , column=6).value == 1:\n",
    "                    sheet.cell(row= i+1 , column=6).value = 0\n",
    "                    sheet.cell(row= i+1 , column=8).value -= 1\n",
    "                    message = \"移除湯圓會抽獎券\"\n",
    "                else:\n",
    "                    sheet.cell(row= i+1 , column=6).value = 1\n",
    "                    sheet.cell(row= i+1 , column=8).value += 1\n",
    "                    message = \"新增湯圓會抽獎券\"\n",
    "\n",
    "                wb.save(\"2023聖誕抽獎資格.xlsx\")  # 保存變更\n",
    "                print(\"工作簿成功保存\")\n",
    "            except Exception as e:\n",
    "                print(f\"錯誤：{e}\")\n",
    "            break\n",
    "        i = i+1\n",
    "    return message\n",
    "\n",
    "def photo_status_by_name(sheet, name):\n",
    "    i = 0\n",
    "    for row in sheet.iter_rows(min_row=1, max_row=sheet.max_row, values_only=True):\n",
    "        if row[1] == name:\n",
    "            # \n",
    "            try:\n",
    "                if sheet.cell(row= i+1 , column=7).value == 1:\n",
    "                    sheet.cell(row= i+1 , column=7).value = 0\n",
    "                    sheet.cell(row= i+1 , column=8).value -= 1\n",
    "                    message = \"移除聖誕布置合影抽獎券\"\n",
    "                else:\n",
    "                    sheet.cell(row= i+1 , column=7).value = 1\n",
    "                    sheet.cell(row= i+1 , column=8).value += 1\n",
    "                    message = \"新增聖誕布置合影抽獎券\"\n",
    "\n",
    "                wb.save(\"2023聖誕抽獎資格.xlsx\")  # 保存變更\n",
    "                print(\"工作簿成功保存\")\n",
    "            except Exception as e:\n",
    "                print(f\"錯誤：{e}\")\n",
    "            break\n",
    "        i = i+1\n",
    "    return message\n",
    "\n",
    "def update_by_name(sheet, name):\n",
    "    i = 0\n",
    "    for row in sheet.iter_rows(min_row=1, max_row=sheet.max_row, values_only=True):\n",
    "        if row[1] == name:\n",
    "            # 找到匹配的名字，更新第 9 個值為 \"Y\"\n",
    "            try:\n",
    "                sheet.cell(row= i+1 , column=9).value = \"Y\"\n",
    "                wb.save(\"2023聖誕抽獎資格.xlsx\")  # 保存變更\n",
    "                print(\"工作簿成功保存\")\n",
    "                print(sheet.cell(row= i+1 , column=8).value)\n",
    "            except Exception as e:\n",
    "                print(f\"錯誤：{e}\")\n",
    "            break\n",
    "        i = i+1\n",
    "\n",
    "\n",
    "\n",
    "\n",
    "def find_by_name(sheet, name):\n",
    "    # 保存匹配的行\n",
    "    matching_row = None\n",
    "\n",
    "    for row in sheet.iter_rows(min_row=1, max_row=sheet.max_row, values_only=True):\n",
    "        # 遍历行中的列\n",
    "        for value in row:\n",
    "            if value == name:\n",
    "                # 保存匹配的整行\n",
    "                matching_row = row\n",
    "                break\n",
    "\n",
    "    # 将要打印的内容整理成一个变量\n",
    "    msg = \"\"\n",
    "\n",
    "    # 检查是否找到匹配的行\n",
    "    if matching_row is not None:\n",
    "        msg += \"找到匹配的名字:\\n\"\n",
    "        msg += f\"學號 : {matching_row[0]}\\n\"\n",
    "        msg += f\"名字 : {matching_row[1]}\\n\"\n",
    "        msg += f\"抽獎券數量 : {matching_row[7]}\\n\"\n",
    "        if matching_row[8] == \"Y\":\n",
    "            msg += \"已核發\\n\"\n",
    "        elif  matching_row[8] == \"N\":\n",
    "            msg += \"未核發\\n\"\n",
    "\n",
    "    else:\n",
    "        msg += \"未找到匹配的行\\n\"\n",
    "\n",
    "    # 打印 msg 变量的内容\n",
    "    text_message = TextSendMessage(text=msg)\n",
    "    return text_message\n",
    "\n",
    "\n",
    "\n",
    "if __name__ == \"__main__\":\n",
    "    \n",
    "    app.run()"
   ]
  }
 ],
 "metadata": {
  "kernelspec": {
   "display_name": "Python 3",
   "language": "python",
   "name": "python3"
  },
  "language_info": {
   "codemirror_mode": {
    "name": "ipython",
    "version": 3
   },
   "file_extension": ".py",
   "mimetype": "text/x-python",
   "name": "python",
   "nbconvert_exporter": "python",
   "pygments_lexer": "ipython3",
   "version": "3.11.3"
  }
 },
 "nbformat": 4,
 "nbformat_minor": 2
}
